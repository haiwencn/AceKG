{
 "cells": [
  {
   "cell_type": "code",
   "execution_count": 1,
   "metadata": {},
   "outputs": [],
   "source": [
    "import pymysql\n",
    "import numpy"
   ]
  },
  {
   "cell_type": "code",
   "execution_count": 2,
   "metadata": {},
   "outputs": [
    {
     "name": "stdout",
     "output_type": "stream",
     "text": [
      "('1', 'contract')\n",
      "('10', 'intergovernmental personnel award')\n",
      "('11', 'fixed price award')\n",
      "('12', 'personnel agreement')\n",
      "('2', 'boa/task order')\n",
      "('3', 'standard grant')\n",
      "('4', 'interagency agreement')\n",
      "('5', 'continuing grant')\n",
      "('6', 'contract interagency agreement')\n",
      "('7', 'gaa')\n",
      "('8', 'cooperative agreement')\n",
      "('9', 'fellowship')\n"
     ]
    }
   ],
   "source": [
    "try:\n",
    "    #获取一个数据库连接，注意如果是UTF-8类型的，需要制定数据库\n",
    "    conn=pymysql.connect(host='10.10.10.10',user='readonly',passwd='readonly',db='acmDB',port=3306,charset='utf8')\n",
    "    cur=conn.cursor()#获取一个游标\n",
    "    cur.execute('select * from AwardInstrument')\n",
    "    data=cur.fetchall()\n",
    "    for d in data :\n",
    "        print(d)\n",
    "    cur.close()#关闭游标\n",
    "    conn.close()#释放数据库资源\n",
    "except Exception :print(\"查询失败\")\n"
   ]
  },
  {
   "cell_type": "code",
   "execution_count": null,
   "metadata": {},
   "outputs": [],
   "source": []
  }
 ],
 "metadata": {
  "kernelspec": {
   "display_name": "Python 3",
   "language": "python",
   "name": "python3"
  },
  "language_info": {
   "codemirror_mode": {
    "name": "ipython",
    "version": 3
   },
   "file_extension": ".py",
   "mimetype": "text/x-python",
   "name": "python",
   "nbconvert_exporter": "python",
   "pygments_lexer": "ipython3",
   "version": "3.7.3"
  }
 },
 "nbformat": 4,
 "nbformat_minor": 2
}
